{
  "nbformat": 4,
  "nbformat_minor": 0,
  "metadata": {
    "colab": {
      "name": "practice_01_fss_jacobian.ipynb",
      "provenance": [],
      "collapsed_sections": [],
      "include_colab_link": true
    },
    "kernelspec": {
      "name": "python3",
      "display_name": "Python 3"
    }
  },
  "cells": [
    {
      "cell_type": "markdown",
      "metadata": {
        "id": "view-in-github",
        "colab_type": "text"
      },
      "source": [
        "<a href=\"https://colab.research.google.com/github/SergeiSa/Computational-Intelligence-Slides-Fall-2020/blob/master/Google%20Colab%20notebooks/practice%2001/practice_01_fss_jacobian.ipynb\" target=\"_parent\"><img src=\"https://colab.research.google.com/assets/colab-badge.svg\" alt=\"Open In Colab\"/></a>"
      ]
    },
    {
      "cell_type": "markdown",
      "metadata": {
        "id": "k1tejFp5LN5M",
        "colab_type": "text"
      },
      "source": [
        "# **Introduction**\n",
        "\n",
        "---\n",
        "\n",
        "## **TA Instructor**\n",
        "Name: Simeon Nedelchev\n",
        "\n",
        "Feel free to contact me in person (office 105) or via [telegram](https://t.me/simkasimka) and [mail](https://t.me/simkasimka) if you face any problems with the course or would like to do research and work on hardware\n",
        "## **Prerequisites for practice**\n",
        "There are no strong prerequisites for the practice class, however:\n",
        "* **Linear Algebra**, **Linear Control Theory** as well as **Dynamics** (Mechanics, Physics) and **Calculus** course will be really helpfull\n",
        "* As before we will use a bit of **Python** and maybe **C++** in this class\n",
        "* We will often use [mathematical quantifiers](https://en.wikipedia.org/wiki/Quantifier_(logic)). Revise them by going over [exercises](https://www.whitman.edu/mathematics/higher_math_online/section01.02.html) if you forgot some.\n",
        "\n",
        "## **Notation**\n",
        "We will use the following notation in \"notebooks\":\n",
        "> A key points or equations looks like this \n",
        "\n",
        ">**QUESTION**: \n",
        "These questions are related to lecture materials, answering them will help you to develop solid understanding of the course.\n",
        "\n",
        ">**HW EXERCISE**: \n",
        "This is home assignment which I **strongly** recommend to complete right  after the class. You have to create a `*yourname_№ofclass.ipynb*` and share it with me through [Colab](https://colab.research.google.com/).\n",
        "\n",
        ">**BONUS:** Problems that will be graded separately and will give you bonus points on final exam\n",
        "\n",
        "\n"
      ]
    },
    {
      "cell_type": "markdown",
      "metadata": {
        "id": "zPmrTNlSBW-R",
        "colab_type": "text"
      },
      "source": [
        "# **Practice 1: Fundamental Subspaces and Jacobian Mapping**\n",
        "## **Goals for today**\n",
        "\n",
        "---\n",
        "\n",
        "During today practice we will:\n",
        "*   Exploit a structure of linear mapping between Joint and Task spaces velocities.\n",
        "*   Understand what is physical interpretation of fundamental subspaces of the manipulator Jacobian.\n",
        "*   Obtain null space motion of 3 DoF plane manipulator with fixed end effector\n"
      ]
    },
    {
      "cell_type": "markdown",
      "metadata": {
        "id": "kgF8BN0GTBfP",
        "colab_type": "text"
      },
      "source": [
        "## **Four Fundamental Subspaces. Recall**\n",
        "---\n",
        ">As we have studied on the lectures there are four fundamental subspaces accompanying any linear operator (matrix) $\\mathbf{A}^{m \\times n}$, namely:\n",
        ">*   **Column** space (range, image): $\\mathcal{C}(\\mathbf{A}) \\in \\mathbb{R}^m$ \n",
        ">*   **Null** space (kernel): $\\mathcal{N}(\\mathbf{A}) \\in \\mathbb{R}^n$\n",
        ">*   **Row** space: $\\mathcal{R}(\\mathbf{A}) = \\mathcal{C}(\\mathbf{A}^T)  \\in \\mathbb{R}^n$\n",
        ">*   **Left null** space: $\\mathcal{N}(\\mathbf{A}^T) \\in \\mathbb{R}^m$\n",
        "---\n",
        "\n",
        ">**QUESTION**: \n",
        "Why the null space $\\mathcal{N}(\\mathbf{A}^T)$ is called left? \n",
        "\n",
        "Denoted above subspaces are widely used in various applications, today we are going to apply them to exploit an inner structure of kinematics and statics of redundant manipulators. \n",
        "\n",
        "## **Jacobian Velocity Mapping**\n",
        "\n",
        ">Let us consider differential kinematic relationship:\n",
        "\\begin{equation}\n",
        "  \\dot{\\boldsymbol{x}} = \\mathbf{J}(\\mathbf{q})\\dot{\\mathbf{q}}\n",
        "\\end{equation}\n",
        "where\n",
        "*   $\\boldsymbol{x} \\in \\mathbb{R}^m$ task space variables (for instance Cartesian coordinates)\n",
        "*   $\\mathbf{q} \\in \\mathbb{R}^n$ joint space variables (positions of joints)\n",
        "*   $\\mathbf{J} \\in \\mathbb{R}^{m\\times n}$ mainpulator Jacobian \n",
        "\n",
        "\n",
        "As one can note relationship between joint and task velocity is linear (for particular $\\mathbf{q}$) thus, the differential kinematics equation can be characterized in terms of the columns space $\\mathcal{C}(\\mathbf{J})$ (range) and null space $\\mathcal{N}(\\mathbf{J})$ of the mapping $\\mathbf{J}$\n",
        "\n",
        "*   The column space of $\\mathbf{J}$ is the subspace $\\mathcal{C}(\\mathbf{J}) \\in \\mathbb{R}^m$ of the end-effector velocities $\\dot{\\mathbf{x}}$ that can be generated by the joint velocities $\\dot{\\mathbf{q}}$, in the given manipulator\n",
        "posture $\\mathbf{q}$\n",
        "*   The null space of $\\mathbf{J}$ is the subspace $\\mathcal{N}(\\mathbf{J}) \\in \\mathbb{R}^n$ of joint velocities $\\dot{\\mathbf{q}}$ that do not produce any end-effector velocity $\\dot{\\mathbf{x}}$, in the given manipulator posture $\\mathbf{q}$.\n",
        "\n",
        "\n",
        "<p><img alt=\"jacobian mapping\" height=\"300px\" src=\"https://drive.google.com/uc?id=12RvqAPVFUZg9sZFMHQ7y-iAnKo4R3bjX\" align=\"center\" hspace=\"250px\" vspace=\"0px\"></p>\n",
        "\n",
        "If the Jacobian has full rank, one has $\\text{dim}\\{\\mathcal{C}(\\mathbf{J})\\} = m,\\text{dim}\\{\\mathcal{N}(\\mathbf{J})\\} = n - m $. In case of not reduntant manipulator $m = n$ H dimension of null space increases only in the singular configurations. However, in the reduntant case condition  $\\mathcal{N}(\\mathbf{J}) \\neq \\emptyset$ may be satisfied not only in singular configurations, which allow determination of systematic techniques to handle redundant DOFs.\n",
        "\n",
        "<!-- For convenience let us define **null space projector** $\\mathbf{P}\\in \\mathbb{R}^{m \\times m}$:\n",
        "\\begin{equation}\n",
        "\\mathcal{C}(\\mathbf{P}) \\triangleq \\mathcal{N}(\\mathbf{J})\n",
        "\\end{equation}\n",
        "Thus, if one denote a joint velocity vector $\\dot{\\mathbf{q}}^*$ that produce a desired velocity $\\dot{\\boldsymbol{x}}_d$ the following holds:\n",
        "\\begin{equation}\n",
        "\\dot{\\boldsymbol{x}}_d = \\mathbf{J}\\dot{\\mathbf{q}}^* + \\mathbf{P}\\dot{\\mathbf{q}}_0\n",
        "\\end{equation}\n",
        "for any $\\dot{\\mathbf{q}}_0 \\in \\mathbb{R}^n$\n",
        ">**HW EXERCISE**: \n",
        "Proof the statement above\n",
        "\n",
        "Let us now consider an practical application of the Jacobian null-space.  -->\n",
        "\n",
        "\n",
        "\n",
        "\n",
        "\n",
        "\n",
        "\n",
        "\n",
        "\n"
      ]
    },
    {
      "cell_type": "markdown",
      "metadata": {
        "id": "kMk1jiutJ4ct",
        "colab_type": "text"
      },
      "source": [
        "## **Case Study: Reduntand Manipulation**\n",
        "Consider the 3-DoF planar manipulator:\n",
        "<p><img alt=\"3DoF\" height=\"300px\" src=\"https://drive.google.com/uc?id=1LuXGcOe5jw8tw5TrLlma9hDbRU_opZVw\" align=\"center\" hspace=\"280px\" vspace=\"0px\"></p>\n",
        "\n",
        "A problem is to find the motion $\\mathbf{q}^*(t),\\mathbf{\\dot{q}}^*(t)$ of the manipulator from the initial pose $\\mathbf{q}_0$ such that end effector remain in the rest (as shown [here](https://youtu.be/sZYBC8Lrmdo?t=11)).\n",
        "\n",
        "<p><img alt=\"3DoF_lin\" height=\"250px\" src=\"https://drive.google.com/uc?id=1U-ncx1zJjYAkUiiZlqoDQgTctFR64UgQ\" align=\"center\" hspace=\"280px\" vspace=\"0px\"></p>\n",
        "\n",
        "To do so we are going to find joint velocity vector that is in null-space of Jacobian and integrate it from initial state to obtain a desired joint angles.\n",
        "\n",
        "\n",
        "A first step is to find forward kinematics:\n",
        "\\begin{equation}\n",
        "\\boldsymbol{x} = \n",
        "\\sum^n_{i=1}\\ell_i\n",
        "\\begin{bmatrix}\n",
        " \\cos \\sum^i_{j=1}q_j\\\\\n",
        " \\sin \\sum^i_{j=1}q_j\n",
        "\\end{bmatrix}  \n",
        "\\end{equation}\n",
        "\n",
        "Thus the $i$-th column of Jacobian calculated recursevely as:\n",
        "\\begin{equation}\n",
        "\\mathbf{J}_i =\n",
        "\\frac{\\partial \\boldsymbol{x}}{\\partial q_i} \n",
        "=\n",
        "\\sum^n_{j=i}\n",
        "\\ell_j\n",
        "\\begin{bmatrix}\n",
        " -\\sin \\sum^j_{k=1} q_k\\\\\n",
        " \\cos \\sum^j_{k=1} q_k\n",
        "\\end{bmatrix}  \n",
        "\\end{equation}"
      ]
    },
    {
      "cell_type": "markdown",
      "metadata": {
        "id": "61CjcSUlTE_O",
        "colab_type": "text"
      },
      "source": [
        "Let's implement Jacobian matrix:"
      ]
    },
    {
      "cell_type": "code",
      "metadata": {
        "id": "Nh07z-E3TQ9P",
        "colab_type": "code",
        "colab": {}
      },
      "source": [
        "from numpy import cos, sin, zeros, sum, pi, dot, array\n",
        "\n",
        "def jacobian_column(q, l, i):\n",
        "    jac_i = zeros(2)\n",
        "    for j in range(i,len(q)):\n",
        "      jac_i+=l[j]*array([-sin(sum(q[:j+1])), cos(sum(q[:j+1]))])\n",
        "    return jac_i\n",
        "  \n",
        "def jacobian(q, l):\n",
        "    jac = zeros((2,len(q)))\n",
        "    for i in range(len(q)):\n",
        "      jac[:,i] = jacobian_column(q, l, i)\n",
        "    return jac"
      ],
      "execution_count": null,
      "outputs": []
    },
    {
      "cell_type": "markdown",
      "metadata": {
        "id": "TLs4i8oswx9j",
        "colab_type": "text"
      },
      "source": [
        "To find a desired joint speeds that do not produce any motion on the end-effector one can solve:\n",
        "\\begin{equation}\n",
        "\\mathbf{J}\\dot{\\mathbf{q}}_0 = \\dot{\\boldsymbol{x}}_d = \\mathbf{0}\n",
        "\\end{equation}\n",
        "which is nothing but $\\mathcal{N}(\\mathbf{J})$\n",
        "\n",
        "Let us now find the basis of null space for particular initial pose:"
      ]
    },
    {
      "cell_type": "code",
      "metadata": {
        "id": "AgR6OgzSTB_B",
        "colab_type": "code",
        "colab": {
          "base_uri": "https://localhost:8080/",
          "height": 86
        },
        "outputId": "226e6649-1943-4804-f373-7b7b7904aa94"
      },
      "source": [
        "q0 = [pi/2, -pi/4, 0]\n",
        "l = [0.5, 0.5, 0.5]\n",
        "\n",
        "from scipy.linalg import null_space\n",
        "null_dq = null_space(jacobian(q0,l))\n",
        "print('Basis of null space:\\n', null_dq)"
      ],
      "execution_count": null,
      "outputs": [
        {
          "output_type": "stream",
          "text": [
            "Basis of null space:\n",
            " [[ 2.54873123e-17]\n",
            " [-4.47213595e-01]\n",
            " [ 8.94427191e-01]]\n"
          ],
          "name": "stdout"
        }
      ]
    },
    {
      "cell_type": "markdown",
      "metadata": {
        "id": "I4Yly5-6FRlm",
        "colab_type": "text"
      },
      "source": [
        "One can multiply obtained basis on any particular value or function and use naive integration to calculate joint angles from \"null space speed\", for instance let us consider periodic motion in joint angles:"
      ]
    },
    {
      "cell_type": "code",
      "metadata": {
        "id": "W-rV1ItbxuUE",
        "colab_type": "code",
        "colab": {
          "base_uri": "https://localhost:8080/",
          "height": 282
        },
        "outputId": "86b3bd1e-85df-4262-a949-02e23ad31590"
      },
      "source": [
        "from numpy import linspace, shape\n",
        "from scipy.integrate import odeint\n",
        "\n",
        "def null_vel(q, l, v):\n",
        "    null_dq = null_space(jacobian(q,l))*v\n",
        "    return null_dq\n",
        "\n",
        "def sysode(pos, t, l):\n",
        "    v = 3*sin(6*t)\n",
        "    vel = null_vel(pos, l, v)\n",
        "    return vel[:,0]\n",
        "\n",
        "# Integration\n",
        "t0 = 0 # Initial time \n",
        "tf = 2 # Final time\n",
        "N = 1E2 # Numbers of points in time span\n",
        "t = linspace(t0, tf, int(N)) # Create time span\n",
        "\n",
        "q_sol = odeint(sysode, q0, t, args=(l,))\n",
        "\n",
        "# Plotting\n",
        "from matplotlib.pyplot import *\n",
        "colors = ('r','g','b')\n",
        "for i in range(len(q0)):\n",
        "  plot(t, q_sol[:,i], label = r'$q_' + str(i+1) + '$', color = colors[i])\n",
        "legend(loc = 'upper right')\n",
        "xlim([0, tf])\n",
        "grid(color='black', linestyle='--', linewidth=1.0, alpha = 0.7)\n",
        "ylabel(r'Joint angles $q$ (rad)')\n",
        "xlabel(r'Time $t$ (s)')\n",
        "show()\n",
        "\n"
      ],
      "execution_count": null,
      "outputs": [
        {
          "output_type": "display_data",
          "data": {
            "image/png": "[encoded data removed]",
            "text/plain": [
              "<Figure size 432x288 with 1 Axes>"
            ]
          },
          "metadata": {
            "tags": [],
            "needs_background": "light"
          }
        }
      ]
    },
    {
      "cell_type": "markdown",
      "metadata": {
        "id": "EKmC355UFzl4",
        "colab_type": "text"
      },
      "source": [
        "Let's check either end effector moved or not, to do so we use solution of forward kinematics:"
      ]
    },
    {
      "cell_type": "code",
      "metadata": {
        "id": "p6VqXlhWxN0f",
        "colab_type": "code",
        "colab": {
          "base_uri": "https://localhost:8080/",
          "height": 282
        },
        "outputId": "1c750404-9f4f-4b1a-f528-d4ab32392a61"
      },
      "source": [
        "from numpy import shape\n",
        "\n",
        "# Forward kinematics\n",
        "def fk(q, l):\n",
        "    x = zeros((shape(q)[0], 2))\n",
        "    for k in range(shape(q)[0]):\n",
        "      for i in range(shape(q)[1]):\n",
        "        x[k, :]+=l[i]*array([cos(sum(q[k,:i+1])), sin(sum(q[k,:i+1]))])\n",
        "    return x\n",
        "# Get solution of forward kinematics \n",
        "pos = fk(q_sol,l)\n",
        "\n",
        "colors = ('r','b')\n",
        "labels = (r'$x$',r'$y$')\n",
        "\n",
        "for i in range(2):\n",
        "  plot(t, pos[:,i], label = labels[i], color = colors[i])\n",
        "  \n",
        "legend(loc = 'upper right')\n",
        "xlim([0, tf])\n",
        "grid(color='black', linestyle='--', linewidth=1.0, alpha = 0.7)\n",
        "ylabel(r'Joint angles $q$ (rad)')\n",
        "xlabel(r'Time $t$ (s)')\n",
        "show()\n"
      ],
      "execution_count": null,
      "outputs": [
        {
          "output_type": "display_data",
          "data": {
            "image/png": "[encoded data removed]",
            "text/plain": [
              "<Figure size 432x288 with 1 Axes>"
            ]
          },
          "metadata": {
            "tags": [],
            "needs_background": "light"
          }
        }
      ]
    },
    {
      "cell_type": "markdown",
      "metadata": {
        "id": "USL2FNVP8owl",
        "colab_type": "text"
      },
      "source": [
        "Clearly end effector did not move while there is notable motion in joints!"
      ]
    },
    {
      "cell_type": "markdown",
      "metadata": {
        "id": "XGRkU8lS9znQ",
        "colab_type": "text"
      },
      "source": [
        ">**HW EXERCISE**: \n",
        ">*   Repeat all of the above for 3 DoF manipulator with linear actuator on the base:\n",
        "> <p><img alt=\"3DoF_lin\" height=\"300px\" src=\"https://drive.google.com/uc?id=1kv96mXiqLY9OERoEejG3CTlwM1S3TE5T\" align=\"center\" hspace=\"250px\" vspace=\"0px\"></p>\n",
        ">* Recall that static relationship between forces imposed on end effector and joints torques is given by:\n",
        "\\begin{equation}\n",
        "\\boldsymbol{\\tau} = \\mathbf{J}(\\mathbf{q})^T\\mathbf{F}\n",
        "\\end{equation}\n",
        "where:\n",
        "  *   $\\mathbf{F} \\in \\mathbb{R}^m$ task space force imposed on the end-effector\n",
        "  *   $\\boldsymbol{\\tau} \\in \\mathbb{R}^n$ joint space torques (control effort in the actuators)\n",
        ">\n",
        ">  Explain what is the physical interpretation of remaining fundamental subspaces:  $\\mathcal{R}(\\mathbf{J}),\\mathcal{N}(\\mathbf{J^T})$, similarly as we did for velocity mapping.\n",
        "\n"
      ]
    },
    {
      "cell_type": "markdown",
      "metadata": {
        "id": "bYBuKbBJ-NN4",
        "colab_type": "text"
      },
      "source": [
        ">**BONUS EXERCISE**: \n",
        "* Plot the time evolution of the norm of the deviation from initial pose: $d = \\|\\boldsymbol{x}(t) - \\boldsymbol{x}(0)\\|$\n",
        "* Try to increase simulation time (up to several mins) and number of points in integration routine, what is happen with deviation $d$?\n",
        "* Suggest and implement the method that may overcome investigated drawbacks. You may refer to chapter 3 of [\"Robotics Modelling, Planning and Control\" by Siciliano, B. ](https://www.academia.edu/23785978/B_Sicilliano_Robotics_Modelling_Planning_and_Control)\n"
      ]
    }
  ]
}