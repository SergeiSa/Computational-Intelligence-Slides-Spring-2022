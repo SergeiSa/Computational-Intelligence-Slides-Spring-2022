{
  "nbformat": 4,
  "nbformat_minor": 0,
  "metadata": {
    "colab": {
      "name": "CI LyapunovEq.ipynb",
      "provenance": [],
      "include_colab_link": true
    },
    "kernelspec": {
      "name": "python3",
      "display_name": "Python 3"
    }
  },
  "cells": [
    {
      "cell_type": "markdown",
      "metadata": {
        "id": "view-in-github",
        "colab_type": "text"
      },
      "source": [
        "<a href=\"https://colab.research.google.com/github/SergeiSa/Computational-Intelligence-Slides-Spring-2021/blob/main/Google%2520Colab%2520notebooks/CI_LyapunovEq.ipynb\" target=\"_parent\"><img src=\"https://colab.research.google.com/assets/colab-badge.svg\" alt=\"Open In Colab\"/></a>"
      ]
    },
    {
      "cell_type": "markdown",
      "metadata": {
        "id": "3ncmZERaeTOW"
      },
      "source": [
        "# Lyapunov equations\r\n",
        "\r\n",
        "Lyapunov equations for continious systems has form:\r\n",
        "\r\n",
        "$AP + PA^{\\top}  =-Q$\r\n",
        "\r\n",
        "and for discrete systems it is \r\n",
        "\r\n",
        "$A P A^{\\top} - P = -Q$\r\n",
        "\r\n",
        "As long as there exists such positive definite $P$ that Lyapunov equations holds for a positive definite $Q$, the system is stable.\r\n",
        "\r\n",
        "Let's see it in code:"
      ]
    },
    {
      "cell_type": "code",
      "metadata": {
        "colab": {
          "base_uri": "https://localhost:8080/"
        },
        "id": "fIlKWi1heNiV",
        "outputId": "47c52c5d-ac5b-4e5f-eeee-c9547cb90fd0"
      },
      "source": [
        "import numpy as np\r\n",
        "from scipy.linalg import solve_continuous_lyapunov\r\n",
        "from scipy.linalg import solve_discrete_lyapunov\r\n",
        "from scipy.linalg import eig\r\n",
        "\r\n",
        "\r\n",
        "Q = np.array([[-1, 0], [0, -1]])\r\n",
        "\r\n",
        "A = np.array([[-10, 5], [-5, -10]])\r\n",
        "e, v = eig(A)\r\n",
        "print(\"eig(A)\", e)\r\n",
        "\r\n",
        "P = solve_continuous_lyapunov(A, Q)\r\n",
        "print(\"P\", P)\r\n",
        "e, v = eig((A.transpose().dot(P) + P.dot(A)))\r\n",
        "print(\"eig(A'P + P*A)\", e)\r\n",
        "print(\" \")\r\n",
        "print(\" \")\r\n",
        "\r\n",
        "\r\n",
        "A = np.array([[0.9, 0.5], [-0.2, -0.8]])\r\n",
        "e, v = eig(A)\r\n",
        "print(\"eig(A)\", e)\r\n",
        "\r\n",
        "P = solve_discrete_lyapunov(A, Q)\r\n",
        "print(\"P\", P)\r\n",
        "print(\"(A'PA - P + Q ):\")\r\n",
        "print(((A.dot(P)).dot(A.transpose()) - P + Q))\r\n"
      ],
      "execution_count": null,
      "outputs": [
        {
          "output_type": "stream",
          "text": [
            "eig(A) [-10.+5.j -10.-5.j]\n",
            "P [[ 5.00000000e-02  7.34706413e-20]\n",
            " [-1.24900090e-18  5.00000000e-02]]\n",
            "eig(A'P + P*A) [-1.+0.j -1.+0.j]\n",
            " \n",
            " \n",
            "eig(A) [ 0.83898669+0.j -0.73898669+0.j]\n",
            "P [[-4.03347296  0.9268445 ]\n",
            " [ 0.9268445  -2.40207966]]\n",
            "(A'PA - P + Q ):\n",
            "[[0.00000000e+00 3.33066907e-16]\n",
            " [1.11022302e-16 4.44089210e-16]]\n"
          ],
          "name": "stdout"
        }
      ]
    },
    {
      "cell_type": "markdown",
      "metadata": {
        "id": "FdmioTfehF-z"
      },
      "source": [
        "Test the following systems' stability:"
      ]
    },
    {
      "cell_type": "markdown",
      "metadata": {
        "id": "W0mjs9LugtlN"
      },
      "source": [
        "\r\n",
        "\r\n",
        "$$x_{i+1} = \r\n",
        "\\begin{pmatrix} 1.5 & 0.2 \\\\ -0.15 & 0.23\r\n",
        "\\end{pmatrix}\r\n",
        "x_i\r\n",
        "$$\r\n",
        "\r\n",
        "\r\n",
        "$$x_{i+1} = \r\n",
        "\\begin{pmatrix} -1 & -1 \\\\ -2 & 0.1\r\n",
        "\\end{pmatrix}\r\n",
        "x_i\r\n",
        "$$\r\n",
        "\r\n",
        "\r\n",
        "$$x_{i+1} = \r\n",
        "\\begin{pmatrix} -3 & -1 \\\\ -1.5 & -10.3\r\n",
        "\\end{pmatrix}\r\n",
        "x_i\r\n",
        "$$\r\n",
        "\r\n",
        "\r\n",
        "$$x_{i+1} = \r\n",
        "\\begin{pmatrix} -0.2 & -1 \\\\ 1.7 & 1.1\r\n",
        "\\end{pmatrix}\r\n",
        "x_i\r\n",
        "$$"
      ]
    },
    {
      "cell_type": "markdown",
      "metadata": {
        "id": "XIJZDiUmhvWv"
      },
      "source": [
        "Test stability of continious systems with the same state matrices:\r\n",
        "\r\n",
        "\r\n",
        "$$\\dot x = \r\n",
        "\\begin{pmatrix} 1.5 & 0.2 \\\\ -0.15 & 0.23\r\n",
        "\\end{pmatrix}\r\n",
        "x\r\n",
        "$$\r\n",
        "\r\n",
        "\r\n",
        "$$\\dot x = \r\n",
        "\\begin{pmatrix} -1 & -1 \\\\ -2 & 0.1\r\n",
        "\\end{pmatrix}\r\n",
        "x\r\n",
        "$$\r\n",
        "\r\n",
        "\r\n",
        "$$\\dot x = \r\n",
        "\\begin{pmatrix} -3 & -1 \\\\ -1.5 & -10.3\r\n",
        "\\end{pmatrix}\r\n",
        "x\r\n",
        "$$\r\n",
        "\r\n",
        "\r\n",
        "$$\\dot x = \r\n",
        "\\begin{pmatrix} -0.2 & -1 \\\\ 1.7 & 1.1\r\n",
        "\\end{pmatrix}\r\n",
        "x\r\n",
        "$$"
      ]
    },
    {
      "cell_type": "markdown",
      "metadata": {
        "id": "ARtI-McEi9n5"
      },
      "source": [
        "Consider the following matrices:\r\n",
        "\r\n",
        "$$\\dot x = \r\n",
        "\\begin{pmatrix} -10.05 & -0.021 & -0.02 \\\\  \r\n",
        "0 & 0 & 0 \\\\  \r\n",
        "-0.022 & 0.0032 & -10.055\r\n",
        "\\end{pmatrix}\r\n",
        "x\r\n",
        "$$\r\n",
        "\r\n",
        "$$\\dot x = \r\n",
        "\\begin{pmatrix} -2.009 & 0 & 0.0012 \\\\  \r\n",
        "0.05 & 0 & -0.041 \\\\  \r\n",
        "-0.042 & 0 & -4.055\r\n",
        "\\end{pmatrix}\r\n",
        "x\r\n",
        "$$\r\n",
        "\r\n",
        "Can you reason about assymptotic stability of the system without computations?"
      ]
    },
    {
      "cell_type": "markdown",
      "metadata": {
        "id": "fBgQ4jhckZq_"
      },
      "source": [
        "**Answer:**\r\n",
        "\r\n",
        "First system is Lyapunov stable, but not assymptotically stable. You can see that its eigenvalues are not going to have negative eigenvalues, but also you see that the matrix has a non-trivial null space.\r\n",
        "\r\n",
        "You can also directly notice that the second component of $x$ is not going to change, rulling out assymptotic stability.\r\n",
        "\r\n",
        "Second sistem has a non-trivial null space too, meaning some of its eigenvalues are going to be 0. "
      ]
    },
    {
      "cell_type": "markdown",
      "metadata": {
        "id": "9ajNVPtmna3c"
      },
      "source": [
        "Consider the following system again:\r\n",
        "\r\n",
        "$$\\dot x = \r\n",
        "\\begin{pmatrix} -10.05 & -0.021 & -0.02 \\\\  \r\n",
        "0 & 0 & 0 \\\\  \r\n",
        "-0.022 & 0.0032 & -10.055\r\n",
        "\\end{pmatrix}\r\n",
        "x\r\n",
        "$$\r\n",
        "\r\n",
        "You know that $x_2$ is a constant. Let's denote the value of $x_2$ as $c$. Can you rewrite the system in terms of remaining variables $x_1$ and $x_3$ and prove its stability using the Lyapuniv eq?"
      ]
    },
    {
      "cell_type": "markdown",
      "metadata": {
        "id": "kBR3IQ6sn0to"
      },
      "source": [
        "## Solution\r\n",
        "\r\n",
        "### Way 1\r\n",
        "\r\n",
        "Denote:\r\n",
        "\r\n",
        "$$y = \r\n",
        "\\begin{pmatrix} \r\n",
        "x_1 \\\\  \r\n",
        "x_3\r\n",
        "\\end{pmatrix}\r\n",
        "$$\r\n",
        "\r\n",
        "And rewrite:\r\n",
        "\r\n",
        "$$\\dot y = \r\n",
        "\\begin{pmatrix} -10.05 & -0.02 \\\\  \r\n",
        "-0.022 & -10.055\r\n",
        "\\end{pmatrix}\r\n",
        "y\r\n",
        "+\r\n",
        "\\begin{pmatrix} -0.021 \\\\  \r\n",
        "0.0032\r\n",
        "\\end{pmatrix}\r\n",
        "c\r\n",
        "$$\r\n",
        "\r\n",
        "The rest you know how to do.\r\n",
        "\r\n",
        "### Way 2\r\n",
        "\r\n",
        "Orthonormal basis in the column space of the state matrix in this case is:\r\n",
        "\r\n",
        "$$\r\n",
        "C =\r\n",
        "\\begin{pmatrix} \r\n",
        "1 & 0 \\\\  \r\n",
        "0 & 0 \\\\  \r\n",
        "0 & 1\r\n",
        "\\end{pmatrix}\r\n",
        "$$\r\n",
        "\r\n",
        "Motion of the system takes place in that column space. Let's denote $y = C^{\\top}x$, and as long as $x$ is in this column space, it is true that $x = Cy$. But if $x$ is not in the column space, it is $x = Cy + x^*$\r\n",
        "\r\n",
        "Notice that $x^*$ is in the left null space of the state matrix, as long as $y = C^{\\top}x$, because: \r\n",
        "\r\n",
        "$$Cy = CC^{\\top}x$$\r\n",
        "$$x-x^* = CC^{\\top}x$$\r\n",
        "$$x^* = (I-CC^{\\top})x$$\r\n",
        "\r\n",
        "where the last expression is a projection of $x$ onto the left null space of the state matrix. Orthonormal basis in the left null space of the state matrix is:\r\n",
        "\r\n",
        "$$\r\n",
        "L =\r\n",
        "\\begin{pmatrix} \r\n",
        "0 \\\\  \r\n",
        "1 \\\\  \r\n",
        "0\r\n",
        "\\end{pmatrix}\r\n",
        "$$\r\n",
        "\r\n",
        "And we know that $x_2 = c$, so $x^* = Lc$.\r\n",
        "\r\n",
        "Variable $y$ is the new coordinates in the column space basis.\r\n",
        "\r\n",
        "Let's project teh dynamics into the column space. First we multiply it by $C^{\\top}$:\r\n",
        "\r\n",
        "$$C^{\\top} \\dot x = \r\n",
        "C^{\\top}\r\n",
        "\\begin{pmatrix} -10.05 & -0.021 & -0.02 \\\\  \r\n",
        "0 & 0 & 0 \\\\  \r\n",
        "-0.022 & 0.0032 & -10.055\r\n",
        "\\end{pmatrix}\r\n",
        "x\r\n",
        "$$\r\n",
        "\r\n",
        "$$\\dot y = \r\n",
        "\\begin{pmatrix} -10.05 & -0.021 & -0.02 \\\\ \r\n",
        "-0.022 & 0.0032 & -10.055\r\n",
        "\\end{pmatrix}\r\n",
        "x\r\n",
        "$$\r\n",
        "\r\n",
        "Then, since $x = Cy + Lc$ on teh system trajectory, we get:\r\n",
        "\r\n",
        "$$\\dot y = \r\n",
        "\\begin{pmatrix} -10.05 & -0.021 & -0.02 \\\\ \r\n",
        "-0.022 & 0.0032 & -10.055\r\n",
        "\\end{pmatrix}\r\n",
        "(Cy + Lc)\r\n",
        "$$\r\n",
        "\r\n",
        "$$\\dot y = \r\n",
        "\\begin{pmatrix} -10.05 & -0.02 \\\\ \r\n",
        "-0.022 & -10.055\r\n",
        "\\end{pmatrix}\r\n",
        "y\r\n",
        "+\r\n",
        "\\begin{pmatrix} \r\n",
        "-0.021 \\\\ \r\n",
        "0.0032\r\n",
        "\\end{pmatrix}\r\n",
        "c\r\n",
        "$$\r\n",
        "\r\n",
        "From here you apply Lyapunov eq. directly."
      ]
    }
  ]
}