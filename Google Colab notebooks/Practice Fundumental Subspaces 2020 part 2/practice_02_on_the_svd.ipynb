{
  "nbformat": 4,
  "nbformat_minor": 0,
  "metadata": {
    "colab": {
      "name": "practice_02_on_the_svd.ipynb",
      "provenance": [],
      "collapsed_sections": [],
      "include_colab_link": true
    },
    "kernelspec": {
      "name": "python3",
      "display_name": "Python 3"
    }
  },
  "cells": [
    {
      "cell_type": "markdown",
      "metadata": {
        "id": "view-in-github",
        "colab_type": "text"
      },
      "source": [
        "<a href=\"https://colab.research.google.com/github/SergeiSa/Computational-Intelligence-Slides-Fall-2020/blob/master/Google%20Colab%20notebooks/practice_02/practice_02_on_the_svd.ipynb\" target=\"_parent\"><img src=\"https://colab.research.google.com/assets/colab-badge.svg\" alt=\"Open In Colab\"/></a>"
      ]
    },
    {
      "cell_type": "markdown",
      "metadata": {
        "id": "zPmrTNlSBW-R",
        "colab_type": "text"
      },
      "source": [
        "# **Practice 2: Four Fundamental Subspaces, SVD, Manipulability, and Identification**\n",
        "\n",
        "---\n",
        "\n",
        "\n",
        "Goals for today is to recall what SVD and apply it to particular problems.\n",
        "\n",
        "Are goals for today:\n",
        "*  Recall the SVD.\n",
        "*  Apply SVD to find manipulability ellipsoids.\n",
        "*  Study internal force in cable driven manipulator. \n"
      ]
    },
    {
      "cell_type": "markdown",
      "metadata": {
        "id": "4mkxyZoho9n2",
        "colab_type": "text"
      },
      "source": [
        "## **Singular Value Decomposition**\n",
        "The singular value decomposition of an $m\\times n$ real or complex matrix $\\mathbf{A}$  is a factorization of the form $\\mathbf{U S V^{*}}$, where $\\mathbf {U}$  is an $m\\times m$ real or complex unitary matrix, $\\mathbf{S}$ is an ${m\\times n}$ rectangular diagonal matrix with non-negative real numbers on the diagonal, and $\\mathbf {V}$ is an $n\\times n$ real or complex unitary matrix. \n",
        "\n",
        "The diagonal entries $\\sigma_{i}=\\mathbf{S}_{ii}$ are known as the singular values of $\\mathbf{A}$. The number of non-zero singular values is equal to the rank of $\\mathbf{A}$. . Let us for now stick in to a real domain where SVD can be written as:\n",
        "\n",
        "---\n",
        "\n",
        "\\begin{equation}\n",
        "\\mathbf{A} = \\mathbf{U}\\mathbf{S}\\mathbf{V}^T\n",
        "\\end{equation}\n",
        "\n",
        "---\n",
        "\n",
        "with matrices $\\mathbf{U},\\mathbf{S},\\mathbf{V}$ above obeing following usefull properties:\n",
        "*   Rank $r$ of matrix $\\mathbf{A}$ is number of non zero singular values $\\sigma_i$ ($\\text{dim}\\{\\mathbf{S}_r\\}$)\n",
        "* Singular values $\\sigma$ of $\\mathbf{A}$ and eigenvalues $\\lambda$ of $\\mathbf{A^TA}$ (or $\\mathbf{AA^T}$) are related as $\\sigma_i = \\lambda_i^2$ \n",
        "* The columns of $\\mathbf{V}$ are eigenvectors of $A^TA$ called right singular vectors of $\\mathbf{A}$.\n",
        "* The columns of $\\mathbf{U}$ are eigenvectors of $AA^T$ called left singular vecotrs of $\\mathbf{A}$.\n",
        "* Determinant is equal to product of eigenvalues $\\det\\{\\mathbf{A}\\} = \\prod_{i=1}^r\\sigma_i$\n",
        "\n",
        ">**HW EXERCISE**: \n",
        "* Proof the statements above\n",
        "\n",
        "\n",
        "\n"
      ]
    },
    {
      "cell_type": "markdown",
      "metadata": {
        "id": "-hiCl_SzZlZi",
        "colab_type": "text"
      },
      "source": [
        "\n",
        "### **SVD $\\rightarrow$Four Fundamental Subspaces**\n",
        "Outstanding is that SVD directly provides all **four fundamental subspaces** at once. \n",
        "\n",
        "---\n",
        "\n",
        "\\begin{equation}\n",
        "\\mathbf{A} = \\mathbf{U}\\mathbf{S}\\mathbf{V}^T = \\begin{bmatrix}\\underset{m \\times r}{\\mathbf{U}_r} & \\underset{m \\times m - r}{\\mathbf{U}_n}\n",
        "\\end{bmatrix}\n",
        "\\begin{bmatrix}\n",
        "\\underset{r \\times r}{\\mathbf{S}_r} & \\underset{r \\times n - r}{\\mathbf{0}} \\\\ \n",
        "\\underset{m - r \\times r}{\\mathbf{0}} & \n",
        "\\underset{m - r \\times n - r}{\\mathbf{0}}\n",
        "\\end{bmatrix}\n",
        "\\begin{bmatrix}\\underset{n \\times r}{\\mathbf{V}_r} & \\underset{n \\times n -r}{\\mathbf{V}_n}\n",
        "\\end{bmatrix}^T\n",
        "= \\mathbf{U}_r \\mathbf{S}_r \\mathbf{V}^T_r\n",
        "\\end{equation}\n",
        "\n",
        "---\n",
        "\n",
        "*   **Column space** $\\mathcal{C}(\\mathbf{A})$is spanned by first $r$ vectors in $\\mathbf{U}_r$\n",
        "*  **Left null space** $\\mathcal{N}(\\mathbf{A}^T)$ is spanned by $m-r$ vectors in $\\mathbf{U}_n$\n",
        "*   **Row space** $\\mathcal{R}(\\mathbf{A}^T)$is spanned by first $r$ right singular vectors in $\\mathbf{V}_r$\n",
        "*  **Null space** $\\mathcal{N}(\\mathbf{A})$ is spanned by $n-r$ vectors in $\\mathbf{V}_n$\n",
        "\n",
        "\n",
        "\n",
        "\n",
        "---"
      ]
    },
    {
      "cell_type": "markdown",
      "metadata": {
        "id": "mhW8S54gocc5",
        "colab_type": "text"
      },
      "source": [
        "## **Geometrical Representation**\n",
        "A Singular Value Decomposition allow the intuitive geometrical interpretation. \n",
        "\n",
        "<p><img alt=\"ff_fb\" height=\"300px\" src=\"https://drive.google.com/uc?id=1ptwXhFZmhZk9s6XKFtYSAzdTNaUEX-NW\" align=\"center\" hspace=\"100px\" vspace=\"0px\"></p>"
      ]
    },
    {
      "cell_type": "markdown",
      "metadata": {
        "id": "VKwy8-iwhSfb",
        "colab_type": "text"
      },
      "source": [
        "## **Example: Manipulability Ellipsoids**\n",
        "\n",
        "in the previous practices we have studied how to describe force and velocity mapping between task and joint spaces, particularly we focus on the null-space motion. Today we will quantify the nonlinear mapping between manipulator spaces by mean of specific indices. It is maybe intuitively done via geometric interpretation of the Jacobian SVD. Consider case of velocity bounded by it's euclidean norm: \n",
        "\\begin{equation}\n",
        "\\|\\dot{\\mathbf{q}}\\|_2^2 = \\dot{\\mathbf{q}}^T \\dot{\\mathbf{q}} \\leq 1\n",
        "\\end{equation}\n",
        "Now think about velocity constraints defined by mapping of the joint speeds which is nothing but transformation from the sphere in $\\mathbb{R}^n$ to the ellipsoid in $\\mathbb{R}^m$.\n",
        "\n"
      ]
    },
    {
      "cell_type": "markdown",
      "metadata": {
        "id": "J671cxejvlxO",
        "colab_type": "text"
      },
      "source": [
        "For example Let us consider the 2 dof mainpulator:\n",
        "\n",
        "<p><img alt=\"ff_fb\" height=\"300px\" src=\"https://drive.google.com/uc?id=1LxHdxxFTz4WrPEtEb6BcRMGFdImRg7tX\" align=\"center\" hspace=\"350px\" vspace=\"0px\"></p>\n",
        "\n",
        "The $i$-th column of Jacobian calculated as:\n",
        "\\begin{equation}\n",
        "\\mathbf{J}_i =\n",
        "\\frac{\\partial \\boldsymbol{x}}{\\partial q_i} \n",
        "=\n",
        "\\sum^n_{j=i}\n",
        "\\ell_j\n",
        "\\begin{bmatrix}\n",
        " -\\sin \\sum^j_{k=1} q_k\\\\\n",
        " \\cos \\sum^j_{k=1} q_k\n",
        "\\end{bmatrix}  \n",
        "\\end{equation}"
      ]
    },
    {
      "cell_type": "code",
      "metadata": {
        "id": "CzWiPxC7xdu3",
        "colab_type": "code",
        "colab": {}
      },
      "source": [
        "from numpy import cos, sin, zeros, sum, pi, dot, array\n",
        "\n",
        "def jacobian_column(q, l, i):\n",
        "    jac_i = zeros(2)\n",
        "    for j in range(i,len(q)):\n",
        "      jac_i+=l[j]*array([-sin(sum(q[:j+1])), cos(sum(q[:j+1]))])\n",
        "    return jac_i\n",
        "  \n",
        "def jacobian(q, l):\n",
        "    jac = zeros((2,len(q)))\n",
        "    for i in range(len(q)):\n",
        "      jac[:,i] = jacobian_column(q, l, i)\n",
        "    return jac"
      ],
      "execution_count": null,
      "outputs": []
    },
    {
      "cell_type": "markdown",
      "metadata": {
        "id": "zcydkO4KxdKE",
        "colab_type": "text"
      },
      "source": [
        "Let's plot the manipulablity ellipsoid in different configurations:"
      ]
    },
    {
      "cell_type": "code",
      "metadata": {
        "id": "-IEVsRS4yVQL",
        "colab_type": "code",
        "colab": {
          "base_uri": "https://localhost:8080/",
          "height": 393
        },
        "outputId": "1da26d53-583b-4872-cff9-c236eed16943"
      },
      "source": [
        "from numpy import linspace\n",
        "# Define a circle in joint space \n",
        "n = 100\n",
        "phi = linspace(0, 1,n)\n",
        "dq_circle = cos(2*pi*phi), sin(2*pi*phi)\n",
        "\n",
        "# transform a circle by jacobian in the particular posture\n",
        "q0 = pi/2,-pi/3\n",
        "l = 1, 1\n",
        "J = jacobian(q0, l)\n",
        "dx_transformed = dot(J,dq_circle)\n",
        "from matplotlib.pyplot import *\n",
        "figure(figsize=(6,6))\n",
        "plot(dq_circle[0], dq_circle[1], color = 'blue')\n",
        "plot(dx_transformed[0], dx_transformed[1], color = 'red')\n",
        "ylim([-2.5,2.5])\n",
        "xlim([-2.5,2.5])\n",
        "grid(color='black', linestyle='--', linewidth=1.0, alpha = 0.7)\n",
        "ylabel(r'$\\dot{q}_1$ (rad/s)')\n",
        "xlabel(r'$\\dot{q}_2$ (rad/s)')\n",
        "show()\n"
      ],
      "execution_count": null,
      "outputs": [
        {
          "output_type": "display_data",
          "data": {
            "image/png": "[encoded data removed]",
            "text/plain": [
              "<Figure size 432x432 with 1 Axes>"
            ]
          },
          "metadata": {
            "tags": [],
            "needs_background": "light"
          }
        }
      ]
    },
    {
      "cell_type": "markdown",
      "metadata": {
        "id": "obaS10Cb6YNI",
        "colab_type": "text"
      },
      "source": [
        "Now we can use SVD to characterize such transformation:"
      ]
    },
    {
      "cell_type": "code",
      "metadata": {
        "id": "XCn_ojr52CBo",
        "colab_type": "code",
        "colab": {
          "base_uri": "https://localhost:8080/",
          "height": 655
        },
        "outputId": "415e6ac4-e72a-4afc-8def-87b2f43abda4"
      },
      "source": [
        "from numpy.linalg import svd\n",
        "from numpy import transpose\n",
        "from numpy import diag\n",
        "U,S,VT = svd(J)\n",
        "\n",
        "print(f' Left singular vectors U:\\n {U}\\n\\n Singular values  S:\\n {S}\\n\\n Right singular vectors V:\\n {VT.transpose()}\\n\\n ')\n",
        "\n",
        "figure(figsize=(6,6))\n",
        "plot([0, S[0]*U[0,0]], [0, S[0]*U[0,1]], color = 'red', marker = 'o')\n",
        "plot([0, S[1]*U[1,0]], [0, S[1]*U[1,1]], color = 'red', marker = 'o')\n",
        "plot(dq_circle[0], dq_circle[1], color = 'blue')\n",
        "plot(dx_transformed[0], dx_transformed[1], color = 'red')\n",
        "ylim([-2.0,2.0])\n",
        "xlim([-2.0,2.0])\n",
        "grid(color='black', linestyle='--', linewidth=1.0, alpha = 0.7)\n",
        "# ylabel(r'$\\dot{q}_1$ (rad/s)')\n",
        "# xlabel(r'$\\dot{q}_2$ (rad/s)')\n",
        "show()\n",
        "\n",
        "print(f' Elipsoid semi-axes U*S:\\n {dot(U,diag(S))}\\n')\n"
      ],
      "execution_count": null,
      "outputs": [
        {
          "output_type": "stream",
          "text": [
            " Left singular vectors U:\n",
            " [[-0.79917148  0.60110311]\n",
            " [ 0.60110311  0.79917148]]\n",
            "\n",
            " Singular values  S:\n",
            " [1.95007068 0.4440995 ]\n",
            "\n",
            " Right singular vectors V:\n",
            " [[ 0.8816746  -0.47185793]\n",
            " [ 0.47185793  0.8816746 ]]\n",
            "\n",
            " \n"
          ],
          "name": "stdout"
        },
        {
          "output_type": "display_data",
          "data": {
            "image/png": "[encoded data removed]",
            "text/plain": [
              "<Figure size 432x432 with 1 Axes>"
            ]
          },
          "metadata": {
            "tags": [],
            "needs_background": "light"
          }
        },
        {
          "output_type": "stream",
          "text": [
            " Elipsoid semi-axes U*S:\n",
            " [[-1.55844086  0.26694959]\n",
            " [ 1.17219355  0.35491165]]\n",
            "\n"
          ],
          "name": "stdout"
        }
      ]
    },
    {
      "cell_type": "markdown",
      "metadata": {
        "id": "vNBZOcUl8sws",
        "colab_type": "text"
      },
      "source": [
        ">**QUESTION**: \n",
        "What will happen in case of singular Jacobian? How you can interpret corresponding SVD physically and geometrically?"
      ]
    },
    {
      "cell_type": "markdown",
      "metadata": {
        "id": "yXw4MCs98hL_",
        "colab_type": "text"
      },
      "source": [
        "It's fairly intuitive to use this concept with $n \\times n$ square matrices (not redundant manipulator), however let us now move a bit further to the general case, to do so we will perform similar analysis for the planar 3-DoF manipulator from the first practice:\n",
        "\n",
        "<p><img alt=\"3DoF\" height=\"300px\" src=\"https://drive.google.com/uc?id=1LuXGcOe5jw8tw5TrLlma9hDbRU_opZVw\" align=\"center\" hspace=\"280px\" vspace=\"0px\"></p>\n"
      ]
    },
    {
      "cell_type": "code",
      "metadata": {
        "id": "0uv08K3-95lh",
        "colab_type": "code",
        "colab": {
          "base_uri": "https://localhost:8080/",
          "height": 277
        },
        "outputId": "483997a9-d069-4483-8213-cd0c99401d29"
      },
      "source": [
        "from numpy import ones\n",
        "\n",
        "q0 = [pi/2, -pi/4, 0]\n",
        "l = ones(3)\n",
        "J = jacobian(q0,l)\n",
        "U,S,VT = svd(J)\n",
        "print(f' Left singular vectors U:\\n {U}\\n\\n  Singular values  S:\\n {S}\\n\\n Right singular vectors V:\\n {VT.transpose()}\\n ')\n",
        "\n",
        "print(f' Elipsoid semi-axes U*S:\\n {dot(U,diag(S))}')"
      ],
      "execution_count": null,
      "outputs": [
        {
          "output_type": "stream",
          "text": [
            " Left singular vectors U:\n",
            " [[-0.80868274  0.58824504]\n",
            " [ 0.58824504  0.80868274]]\n",
            "\n",
            "  Singular values  S:\n",
            " [3.55394055 0.44489738]\n",
            "\n",
            " Right singular vectors V:\n",
            " [[ 7.83422488e-01 -6.21489505e-01  2.54873123e-17]\n",
            " [ 5.55877112e-01  7.00714376e-01 -4.47213595e-01]\n",
            " [ 2.77938556e-01  3.50357188e-01  8.94427191e-01]]\n",
            " \n",
            " Elipsoid semi-axes U*S:\n",
            " [[-2.87401039  0.26170867]\n",
            " [ 2.0905879   0.35978083]]\n"
          ],
          "name": "stdout"
        }
      ]
    },
    {
      "cell_type": "markdown",
      "metadata": {
        "id": "gQ1r7u8Vyg3p",
        "colab_type": "text"
      },
      "source": [
        "Here a left singular vectors multiplied by a singular values denote a semi axis of ellipsoid, and last right singular vector lies in $\\mathcal{N}(\\mathbf{J})$"
      ]
    },
    {
      "cell_type": "markdown",
      "metadata": {
        "id": "XGRkU8lS9znQ",
        "colab_type": "text"
      },
      "source": [
        ">**HW EXERCISE**: \n",
        ">*   Visualize a corresponding transformation from the 3D sphere to ellipse\n",
        "\n",
        ">**BONUS**: \n",
        ">*   Animate a motion of manipulator for some trajectory, and display transformation of the ellipsoid."
      ]
    },
    {
      "cell_type": "markdown",
      "metadata": {
        "id": "L9p7kWFh-Xew",
        "colab_type": "text"
      },
      "source": [
        "## **Condition Number**\n",
        "In order to characterize anisotropy of resulting transformation one can denote the following criteria: \n",
        "\\begin{equation}\n",
        "\\kappa (\\mathbf{A})={\\frac {\\sigma _{\\text{max}}(\\mathbf{A})}{\\sigma _{\\text{min}}(\\mathbf{A})}}\n",
        "\\end{equation}"
      ]
    },
    {
      "cell_type": "markdown",
      "metadata": {
        "id": "Xh1yoCZaBF_j",
        "colab_type": "text"
      },
      "source": [
        "In general a condition number allow you to characterize how much the output value of the function can change for a small change in the input argument. A definition above is valid for $\\ell^2$ norm:\n",
        "\\begin{equation}\n",
        "\\kappa (\\mathbf{A})= {\\frac {\\left\\|A^{-1}e\\right\\|}{\\left\\|A^{-1}b\\right\\|}}/{\\frac {\\|e\\|}{\\|b\\|}}\n",
        "\\end{equation}"
      ]
    },
    {
      "cell_type": "code",
      "metadata": {
        "id": "6e3t_R5NDj2m",
        "colab_type": "code",
        "colab": {
          "base_uri": "https://localhost:8080/",
          "height": 428
        },
        "outputId": "c65f1d7e-0e6c-4b0f-d89a-8e7fff6456ce"
      },
      "source": [
        "from numpy.linalg import cond\n",
        "\n",
        "A = [[1.5,0.2],[0,1]]\n",
        "B = [[2,1],[1,2]]\n",
        "figure(figsize=(6,6))\n",
        "plot(dq_circle[0], dq_circle[1], color = 'blue')\n",
        "for matrix in A, B:\n",
        "  x = dot(matrix,dq_circle)\n",
        "  plot(x[0], x[1])\n",
        "  ylim([-2.5,2.5])\n",
        "  xlim([-2.5,2.5])\n",
        "  print(f'Condition number c {cond(matrix)}')\n",
        "grid(color='black', linestyle='--', linewidth=1.0, alpha = 0.7)\n",
        "ylabel(r'$\\dot{x}_1$')\n",
        "xlabel(r'$\\dot{x}_2$')\n",
        "show()\n",
        "\n",
        "  "
      ],
      "execution_count": null,
      "outputs": [
        {
          "output_type": "stream",
          "text": [
            "Condition number c 1.5468641541960593\n",
            "Condition number c 2.999999999999999\n"
          ],
          "name": "stdout"
        },
        {
          "output_type": "display_data",
          "data": {
            "image/png": "[encoded data removed]",
            "text/plain": [
              "<Figure size 432x432 with 1 Axes>"
            ]
          },
          "metadata": {
            "tags": [],
            "needs_background": "light"
          }
        }
      ]
    },
    {
      "cell_type": "markdown",
      "metadata": {
        "id": "xGtFIHVUG65R",
        "colab_type": "text"
      },
      "source": [
        "In application to the manipulators condition number provides measure of the velocity homogeneity in task space. As closer $\\kappa$ to one as velocity is more homogeneus in different directions.\n"
      ]
    },
    {
      "cell_type": "code",
      "metadata": {
        "id": "iQLXUX4CBQGw",
        "colab_type": "code",
        "colab": {
          "base_uri": "https://localhost:8080/",
          "height": 411
        },
        "outputId": "b8362633-246f-4ec4-f887-5d6f643107ef"
      },
      "source": [
        "q0 = pi/3,-pi/2\n",
        "l = 1, 1\n",
        "J = jacobian(q0, l)\n",
        "dx_transformed = dot(J,dq_circle)\n",
        "\n",
        "figure(figsize=(6,6))\n",
        "plot(dq_circle[0], dq_circle[1], color = 'blue')\n",
        "plot(dx_transformed[0], dx_transformed[1], color = 'red')\n",
        "ylim([-2.5,2.5])\n",
        "xlim([-2.5,2.5])\n",
        "grid(color='black', linestyle='--', linewidth=1.0, alpha = 0.7)\n",
        "ylabel(r'$\\dot{q}_1$ (rad/s)')\n",
        "xlabel(r'$\\dot{q}_2$ (rad/s)')\n",
        "show()\n",
        "\n",
        "print(f'Condition number c: {cond(J)}')"
      ],
      "execution_count": null,
      "outputs": [
        {
          "output_type": "display_data",
          "data": {
            "image/png": "[encoded data removed]",
            "text/plain": [
              "<Figure size 432x432 with 1 Axes>"
            ]
          },
          "metadata": {
            "tags": [],
            "needs_background": "light"
          }
        },
        {
          "output_type": "stream",
          "text": [
            "Condition number c: 2.618033988749896\n"
          ],
          "name": "stdout"
        }
      ]
    },
    {
      "cell_type": "markdown",
      "metadata": {
        "id": "jKE9ZnIYDIsK",
        "colab_type": "text"
      },
      "source": [
        ">**HW EXERCISE**: \n",
        ">*  Plot condition number for 2 DoF manipulator as function of joint variables (3d plot). Which posture is more homogeneus in terms of speeds?"
      ]
    },
    {
      "cell_type": "markdown",
      "metadata": {
        "id": "AzvSbS3a_Qb-",
        "colab_type": "text"
      },
      "source": [
        "## **Example: Cable Driven Manipulator, Vector Closure**\n",
        "Consider the cable driven manipulator with three cables that we discussed previously:\n",
        "\n",
        "<p><img alt=\"3DoF_lin\" height=\"300px\" src=\"https://drive.google.com/uc?id=1rhGICXO_F1g7RdEnTwGYdzbROhly-JBy\" align=\"center\" hspace=\"250px\" vspace=\"0px\"></p>\n",
        "\n",
        "with relationships between cable tensions $\\boldsymbol{\\tau}\\in \\mathbb{R}^n$ and force acting on end effector $\\mathbf{F}\\in \\mathbb{R}^m$ given by:\n",
        "\n",
        "\\begin{equation}\n",
        "\\mathbf{F} = \\mathbf{W}\\boldsymbol{\\tau} \n",
        "\\end{equation}\n",
        "\n",
        "For simplest case $\\mathbf{W}$ containt columns of unit vectors  $\\mathbf{e}_i$ pointing along direction of applied force $\\boldsymbol{\\tau}_i$.\n",
        "\\begin{equation}\n",
        "\\mathbf{W} = [\\mathbf{e}_1, \\mathbf{e}_2, \\dots, \\mathbf{e}_n]\n",
        "\\end{equation}\n",
        "\n"
      ]
    },
    {
      "cell_type": "code",
      "metadata": {
        "id": "rzMqwfvXi3So",
        "colab_type": "code",
        "colab": {
          "base_uri": "https://localhost:8080/",
          "height": 52
        },
        "outputId": "51b86b52-11bd-4ae6-f301-b87d5ec684b9"
      },
      "source": [
        "from numpy.linalg import norm\n",
        "\n",
        "e1 = [1,1]\n",
        "e2 = [-1,1]\n",
        "e3 = [0,-1]\n",
        "W = array([e1/norm(e1),e2/norm(e2),e3/norm(e3)]).transpose()\n",
        "print(W)"
      ],
      "execution_count": null,
      "outputs": [
        {
          "output_type": "stream",
          "text": [
            "[[ 0.70710678 -0.70710678  0.        ]\n",
            " [ 0.70710678  0.70710678 -1.        ]]\n"
          ],
          "name": "stdout"
        }
      ]
    },
    {
      "cell_type": "markdown",
      "metadata": {
        "id": "y-oS2pNSi5qk",
        "colab_type": "text"
      },
      "source": [
        "A problem to define tensions $\\boldsymbol{\\tau_i}$ that corresponds to zero end effector force and also being positive is defined as:\n",
        "\\begin{equation}\n",
        "\\mathbf{W}\\boldsymbol{\\tau} = \\sum_i \\mathbf{e}_i\\boldsymbol{\\tau}_i = \\mathbf{0}\n",
        "\\end{equation}\n",
        "\n",
        "For $\\boldsymbol{\\tau}_i >0$, and with each set of $m$ from the $\\min(n) = m+1$ vectors $\\mathbf{e}_i$  in $\\mathbf{W}$ being linearly independent. \n",
        "\n",
        "This criteria is known as [**vector closure**](https://ieeexplore.ieee.org/document/1088014) since it define a set of closed vectors and is nothing but positive subset of the nullspace of $\\boldsymbol{W}$. Thus to find a positive forces that do not produce any force we just need to find $\\mathcal{N}(\\mathbf{W})$ with all positive elements. So in order to check that system of vectors is vector closure we can perform SVD of $\\mathbf{W}$\n",
        "\n",
        "<p><img alt=\"3DoF_lin\" height=\"200px\" src=\"https://drive.google.com/uc?id=12zH6-FaQOv9y_SSeR2w7LsVxwUVoYiuw\" align=\"center\" hspace=\"250px\" vspace=\"0px\"></p>\n",
        "\n",
        "\n"
      ]
    },
    {
      "cell_type": "code",
      "metadata": {
        "id": "foxZ1N6qHtDB",
        "colab_type": "code",
        "colab": {
          "base_uri": "https://localhost:8080/",
          "height": 277
        },
        "outputId": "dcb70c2f-933e-4238-e62f-862a4fe35788"
      },
      "source": [
        "U, S, VT = svd(W) \n",
        "print(f' Left singular vectors U:\\n {U}\\n\\n  Singular values  S:\\n {S}\\n\\n Right singular vectors V:\\n {VT.transpose()[:n]}\\n ')\n",
        "\n",
        "print(f' Elipsoid semi-axes U*S:\\n {dot(U,diag(S))}')"
      ],
      "execution_count": null,
      "outputs": [
        {
          "output_type": "stream",
          "text": [
            " Left singular vectors U:\n",
            " [[0. 1.]\n",
            " [1. 0.]]\n",
            "\n",
            "  Singular values  S:\n",
            " [1.41421356 1.        ]\n",
            "\n",
            " Right singular vectors V:\n",
            " [[ 0.5         0.70710678  0.5       ]\n",
            " [ 0.5        -0.70710678  0.5       ]\n",
            " [-0.70710678  0.          0.70710678]]\n",
            " \n",
            " Elipsoid semi-axes U*S:\n",
            " [[0.         1.        ]\n",
            " [1.41421356 0.        ]]\n"
          ],
          "name": "stdout"
        }
      ]
    },
    {
      "cell_type": "markdown",
      "metadata": {
        "id": "pIvjdf8ukfTE",
        "colab_type": "text"
      },
      "source": [
        ">**QUESTION**: \n",
        "What is physical interpretation of matrix $\\mathbf{U}\\mathbf{S}$\n",
        "\n",
        "\n",
        ">**HW EXERCISE**: \n",
        ">\n",
        ">  Formulate complete vector closure condition in terms of SVD. To do so answer a following questions:\n",
        ">*  What we can say about linear dependency of vectors $\\mathbf{e}$ by SVD?\n",
        ">*  Why should we have a minimal $m+1$ cables to perform task in $\\mathbb{R}^m$, how to describe this in terms of SVD?\n"
      ]
    },
    {
      "cell_type": "markdown",
      "metadata": {
        "id": "jOqyeXWLp-ii",
        "colab_type": "text"
      },
      "source": [
        "---\n",
        "\n",
        "\n",
        "\n",
        ">**HW EXERCISE**: \n",
        "> Given mechanical system with dynamics written linear to parameters ([revise here](https://colab.research.google.com/drive/1UDpCx13PppfQe4u3g0vdq7tpYxaaTujz#scrollTo=exLMblug8v92) ):\n",
        "\\begin{equation}\n",
        "\\mathbf{Q} =  \n",
        " \\mathbf{Y}(\\mathbf{q},\\dot{\\mathbf{q}},\\ddot{\\mathbf{q}}) \\mathbf{p}\n",
        "\\end{equation}\n",
        ">where:\n",
        ">* $\\mathbf{Q} \\in \\mathbb{R}^n $ - generalized forces corresponding to \n",
        ">* $\\mathbf{q} \\in \\mathbb{R}^{n}$ - vector of generilized coordinates\n",
        ">* $\\mathbf{Y} \\in \\mathbb{R}^{n\\times p}$ is so called **regressor matrix**\n",
        ">* $\\mathbf{p} \\in \\mathbb{R}^{p}$ - is full vector of parameters. \n",
        "generalized coordinates \n",
        ">\n",
        ">Try to intepretate SVD of regressor $\\mathbf{Y}$ in terms of phisycal quantities ($\\mathbf{Q},\\mathbf{p}$). \n",
        ">\n",
        ">\n",
        ">Suppose that you have $N$ measurements $\\dot{q}(t)_i,\\ddot{q}(t)_i$ and calculate augmented regressor defined as:\n",
        ">\n",
        ">\\begin{equation}\n",
        "\\bar{\\mathbf{Y}} = \n",
        "\\begin{bmatrix}\n",
        "\\mathbf{Y}(t_1) \\\\ \n",
        "\\mathbf{Y}(t_2) \\\\\n",
        "\\cdots \\\\\n",
        "\\mathbf{Y}(t_N) \n",
        "\\end{bmatrix}= \n",
        "\\begin{bmatrix}\n",
        "\\mathbf{Y}(\\mathbf{q}_1,\\dot{\\mathbf{q}}_1,\\ddot{\\mathbf{q}}_1) \\\\ \n",
        "\\mathbf{Y}(\\mathbf{q}_2,\\dot{\\mathbf{q}}_2,\\ddot{\\mathbf{q}}_2) \\\\ \n",
        "\\cdots \\\\\n",
        "\\mathbf{Y}(\\mathbf{q}_N,\\dot{\\mathbf{q}}_N,\\ddot{\\mathbf{q}}_N) \n",
        "\\end{bmatrix}\n",
        "\\end{equation}\n",
        ">\n",
        ">* What will be the optimal values of parameter estimates $\\hat{\\mathbf{p}}$ that minimize: $\\| \\bar{\\mathbf{Q}}^* - \\bar{\\mathbf{Y}}\\mathbf{p} \\|$? \n",
        ">* Does one can always calculate such optimal solution (identify) $\\hat{\\mathbf{p}}$? Answer in terms of SVD. What condition on trajectory $\\mathbf{q}$ implies identifiability, propose the measure of this condition? \n",
        "\n",
        "\n",
        "---"
      ]
    }
  ]
}