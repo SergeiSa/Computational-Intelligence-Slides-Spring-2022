{
  "nbformat": 4,
  "nbformat_minor": 0,
  "metadata": {
    "colab": {
      "name": "practice_01_fss_jacobian_2.ipynb",
      "provenance": [],
      "collapsed_sections": [],
      "include_colab_link": true
    },
    "kernelspec": {
      "name": "python3",
      "display_name": "Python 3"
    }
  },
  "cells": [
    {
      "cell_type": "markdown",
      "metadata": {
        "id": "view-in-github",
        "colab_type": "text"
      },
      "source": [
        "<a href=\"https://colab.research.google.com/github/SergeiSa/Computational-Intelligence-Slides-Fall-2020/blob/master/Google%20Colab%20notebooks/practice%2001/practice_01_fss_jacobian_2.ipynb\" target=\"_parent\"><img src=\"https://colab.research.google.com/assets/colab-badge.svg\" alt=\"Open In Colab\"/></a>"
      ]
    },
    {
      "cell_type": "markdown",
      "metadata": {
        "id": "zPmrTNlSBW-R",
        "colab_type": "text"
      },
      "source": [
        "# **Practice 1 Q&A: Fundamental Subspaces and Jacobian Mapping**\n",
        "## **Goals for today**\n",
        "\n",
        "---\n",
        "\n",
        "During today practice we will:\n",
        "*   Exploit a structure of linear mapping between Joint and Task spaces velocities.\n",
        "*   Understand what is physical interpretation of fundamental subspaces of the manipulator Jacobian.\n",
        "*   Obtain null space motion of 3 DoF plane manipulator with fixed end effector\n"
      ]
    },
    {
      "cell_type": "markdown",
      "metadata": {
        "id": "kgF8BN0GTBfP",
        "colab_type": "text"
      },
      "source": [
        " ## **Four Fundamental Subspaces. Recall**\n",
        "---\n",
        ">As we have studied on the lectures there are four fundamental subspaces accompanying any linear operator (matrix) $\\mathbf{A}^{m \\times n}$, namely:\n",
        ">*   **Column** space (range, image): $\\mathcal{C}(\\mathbf{A}) \\in \\mathbb{R}^m$ \n",
        ">*   **Null** space (kernel): $\\mathcal{N}(\\mathbf{A}) \\in \\mathbb{R}^n$\n",
        ">*   **Row** space: $\\mathcal{R}(\\mathbf{A}) = \\mathcal{C}(\\mathbf{A}^T)  \\in \\mathbb{R}^n$\n",
        ">*   **Left null** space: $\\mathcal{N}(\\mathbf{A}^T) \\in \\mathbb{R}^m$\n",
        "---\n",
        "## **Jacobian Force Mapping**\n",
        "\n",
        ">* In yout homework you was trying to the physical interpretation of remaining fundamental subspaces:\n",
        "\\begin{equation}\n",
        "\\boldsymbol{\\tau} = \\mathbf{J}(\\mathbf{q})^T\\mathbf{F}\n",
        "\\end{equation}\n",
        "where:\n",
        "  *   $\\mathbf{F} \\in \\mathbb{R}^m$ task space force imposed on the end-effector\n",
        "  *   $\\boldsymbol{\\tau} \\in \\mathbb{R}^n$ joint space torques (control effort in the actuators)\n",
        ">\n",
        "\n",
        "Similarly to what we did for velocities one can deduce  that:\n",
        "\n",
        "\n",
        "*   The row space of $\\mathbf{J}$ is the subspace $\\mathcal{R}(\\mathbf{J}) \\in \\mathbb{R}^n$ of the joint torques $\\boldsymbol{\\tau}$ that can balance forces applied to end-effector $\\mathbf{F}$, in the given manipulator\n",
        "posture $\\mathbf{q}$\n",
        "*   The left null space of $\\mathbf{J}$ is the subspace $\\mathcal{N}(\\mathbf{J}^T) \\in \\mathbb{R}^m$ of the end-effector forces $\\mathbf{F}$ that do not require any balancing joint torques $\\boldsymbol{\\tau}$, in the given manipulator posture $\\mathbf{q}$.\n",
        "\n",
        "\n",
        "<p><img alt=\"jacobian mapping\" height=\"300px\" src=\"https://drive.google.com/uc?id=15R3jCNGq6tXDWKP0zKOADoGnTJvyBEvn\" align=\"center\" hspace=\"250px\" vspace=\"0px\"></p>\n",
        "\n",
        "\n",
        "\n",
        "\n",
        "\n",
        "\n"
      ]
    },
    {
      "cell_type": "markdown",
      "metadata": {
        "id": "r3p92UrSQnis",
        "colab_type": "text"
      },
      "source": [
        "Let us consider the following examples."
      ]
    },
    {
      "cell_type": "markdown",
      "metadata": {
        "id": "kMk1jiutJ4ct",
        "colab_type": "text"
      },
      "source": [
        "## **Examples: Zero Torques**\n",
        "Consider the 1-DoF planar manipulator (pendulum):\n",
        "<p><img alt=\"1DoF_null_force\" height=\"250px\" src=\"https://drive.google.com/uc?id=1LwHlxz0lEj7qk8PS5Nf5Clm305PFXpxk\" align=\"center\" hspace=\"280px\" vspace=\"0px\"></p>\n",
        "\n",
        "The question is: Which force vector do not require any balancing torque?\n",
        "\n",
        "It is obvious that force along pendulum linkage will not produce any torque, however let us check this fact by analyzing left null space of the Jacobian matrix. \n",
        "\n",
        "\n",
        "Solution of forward kinematics:\n",
        "\\begin{equation}\n",
        "\\boldsymbol{x} = \n",
        "\\ell\n",
        "\\begin{bmatrix}\n",
        " \\cos q\\\\\n",
        " \\sin q\n",
        "\\end{bmatrix}  \n",
        "\\end{equation}\n",
        "\n",
        "Thus the Jacobian calculated as:\n",
        "\\begin{equation}\n",
        "\\mathbf{J} =\n",
        "\\frac{\\partial \\boldsymbol{x}}{\\partial q} \n",
        "=\n",
        "\\ell\n",
        "\\begin{bmatrix}\n",
        " -\\sin q\\\\\n",
        " \\cos q\n",
        "\\end{bmatrix}  \n",
        "\\end{equation}"
      ]
    },
    {
      "cell_type": "code",
      "metadata": {
        "id": "Q9HXmk7DaeU0",
        "colab_type": "code",
        "colab": {
          "base_uri": "https://localhost:8080/",
          "height": 52
        },
        "outputId": "8aa00133-96db-432d-a3dd-9a5185a6bd23"
      },
      "source": [
        "from numpy import cos, sin, zeros, sum, pi, dot, array\n",
        "from scipy.linalg import null_space\n",
        "q = 0\n",
        "l = 1\n",
        "# jacobian \n",
        "jac = l*array([-sin(q), cos(q)])\n",
        "F_0 = null_space([jac.transpose()])\n",
        "print(F_0)"
      ],
      "execution_count": null,
      "outputs": [
        {
          "output_type": "stream",
          "text": [
            "[[1.]\n",
            " [0.]]\n"
          ],
          "name": "stdout"
        }
      ]
    },
    {
      "cell_type": "markdown",
      "metadata": {
        "id": "HEj7tg76biLE",
        "colab_type": "text"
      },
      "source": [
        "As we expected force is along the link. \n",
        "Let us add the linear joint in to base:"
      ]
    },
    {
      "cell_type": "markdown",
      "metadata": {
        "id": "D5P3rSbUX2fK",
        "colab_type": "text"
      },
      "source": [
        "<p><img alt=\"2DoF_null_force\" height=\"250px\" src=\"https://drive.google.com/uc?id=1F7a5hPAG8twKrB3szP7WnYruuLe7M8lX\" align=\"center\" hspace=\"280px\" vspace=\"0px\"></p>\n",
        "\n",
        "Jacobian become:\n",
        "\\begin{equation}\n",
        "\\mathbf{J} =\n",
        "\\frac{\\partial \\boldsymbol{x}}{\\partial \\mathbf{q}} \n",
        "=\n",
        "\\begin{bmatrix}\n",
        "1 & -\\ell_1\\sin q_2\\\\\n",
        "0 & \\ell_1\\cos q_2\n",
        "\\end{bmatrix}  \n",
        "\\end{equation}\n"
      ]
    },
    {
      "cell_type": "markdown",
      "metadata": {
        "id": "61CjcSUlTE_O",
        "colab_type": "text"
      },
      "source": [
        "Let's implement Jacobian matrix:"
      ]
    },
    {
      "cell_type": "code",
      "metadata": {
        "id": "Nh07z-E3TQ9P",
        "colab_type": "code",
        "colab": {
          "base_uri": "https://localhost:8080/",
          "height": 52
        },
        "outputId": "ce052a9b-b182-4420-b882-5c982b988182"
      },
      "source": [
        "def jacobian(q):\n",
        "    return l*array([[1,-sin(q[1])], [0,cos(q[1])]])\n",
        "\n",
        "q = [1,pi/2]\n",
        "\n",
        "\n",
        "F_0 = null_space(jacobian(q).transpose())\n",
        "print(F_0)"
      ],
      "execution_count": null,
      "outputs": [
        {
          "output_type": "stream",
          "text": [
            "[[3.061617e-17]\n",
            " [1.000000e+00]]\n"
          ],
          "name": "stdout"
        }
      ]
    },
    {
      "cell_type": "markdown",
      "metadata": {
        "id": "QTyCYr2OfBJX",
        "colab_type": "text"
      },
      "source": [
        "If link is in the vertical posture we don't need any balancing torques $\\mathbf{\\boldsymbol{\\tau}}$ to overcome vertical force $\\mathbf{F} = \\mathbf{e}_y\\lambda, \\forall \\lambda$.\n",
        "\n",
        "Let's check other postures:"
      ]
    },
    {
      "cell_type": "code",
      "metadata": {
        "id": "K28DtwvefjjJ",
        "colab_type": "code",
        "colab": {
          "base_uri": "https://localhost:8080/",
          "height": 34
        },
        "outputId": "31d6ed5b-25af-4085-b56d-e0961ac90421"
      },
      "source": [
        "q = [1,pi/4]\n",
        "F_0 = null_space(jacobian(q).transpose())\n",
        "print(F_0)"
      ],
      "execution_count": null,
      "outputs": [
        {
          "output_type": "stream",
          "text": [
            "[]\n"
          ],
          "name": "stdout"
        }
      ]
    },
    {
      "cell_type": "markdown",
      "metadata": {
        "id": "tfbu_aNTgOhU",
        "colab_type": "text"
      },
      "source": [
        "\n",
        "\n",
        "\n",
        ">**QUESTION**: \n",
        "As you can see null space is empty, what does that phisicly mean?"
      ]
    },
    {
      "cell_type": "markdown",
      "metadata": {
        "id": "XGRkU8lS9znQ",
        "colab_type": "text"
      },
      "source": [
        ">**HW EXERCISE**: \n",
        "> Consider cable driven manipulator:\n",
        "> <p><img alt=\"3DoF_lin\" height=\"300px\" src=\"https://drive.google.com/uc?id=1rhGICXO_F1g7RdEnTwGYdzbROhly-JBy\" align=\"center\" hspace=\"250px\" vspace=\"0px\"></p>\n",
        ">\n",
        "> with relationships between cable tensions $\\boldsymbol{\\tau}$ and force acting on end effector $\\mathbf{F}$ given by:\n",
        ">\n",
        ">\\begin{equation}\n",
        "\\mathbf{F} = \\mathbf{W}\\boldsymbol{\\tau} \n",
        "\\end{equation}\n",
        ">\n",
        ">where: $\\mathbf{W} \\in \\mathbb{R}^{m \\times n}$ is so called wire matrix that play role of the Jacobian.\n",
        ">\n",
        "> Taking in to account that tension must remain positive $\\tau_i >0,\\forall i$ ,Do the following:\n",
        ">\n",
        ">* Answer what is the minimal number of actuators that supports\n",
        "arbitary end effector force? \n",
        ">* Formulate criteria that alow you to find cable tension do not producing any force on end effector, do it for the minimal number of cables. ( slack is not allowed), Tip: use null space $\\mathcal{N}(\\mathbf{W})$\n",
        ">* Come up with the geometrical representation of the proposed criteria. \n"
      ]
    }
  ]
}